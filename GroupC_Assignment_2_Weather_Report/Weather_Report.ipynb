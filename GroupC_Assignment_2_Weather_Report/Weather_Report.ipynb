{
 "cells": [
  {
   "cell_type": "code",
   "execution_count": 30,
   "metadata": {},
   "outputs": [],
   "source": [
    "import requests"
   ]
  },
  {
   "cell_type": "code",
   "execution_count": 32,
   "metadata": {},
   "outputs": [],
   "source": [
    "def get_weather(city):\n",
    "    api_key = \"API_KEY\"  # Replace with your OpenWeatherMap API key\n",
    "    base_url = \"http://api.openweathermap.org/data/2.5/weather\"\n",
    "    \n",
    "    params = {\n",
    "        \"q\": city,\n",
    "        \"appid\": api_key,\n",
    "        \"units\": \"metric\"\n",
    "    }\n",
    "    \n",
    "    response = requests.get(base_url, params=params)\n",
    "    data = response.json()\n",
    "    \n",
    "    if data[\"cod\"] == \"404\":\n",
    "        print(\"City not found.\")\n",
    "        return None\n",
    "    \n",
    "    temperature = data[\"main\"][\"temp\"]\n",
    "    wind_speed = data[\"wind\"][\"speed\"]\n",
    "    description = data[\"weather\"][0][\"description\"]\n",
    "    weather = data[\"weather\"][0][\"main\"]\n",
    "    \n",
    "    return temperature, wind_speed, description, weather"
   ]
  },
  {
   "cell_type": "code",
   "execution_count": 34,
   "metadata": {},
   "outputs": [
    {
     "name": "stdout",
     "output_type": "stream",
     "text": [
      "Temperature: 8.16°C\n",
      "Wind Speed: 3.6 m/s\n",
      "Description: overcast clouds\n",
      "Weather: Clouds\n"
     ]
    }
   ],
   "source": [
    "#Use\n",
    "city = input(\"Enter the city name: \")\n",
    "weather_data = get_weather(city)\n",
    "\n",
    "if weather_data:\n",
    "    temperature, wind_speed, description, weather = weather_data\n",
    "    print(f\"Temperature: {temperature}°C\")\n",
    "    print(f\"Wind Speed: {wind_speed} m/s\")\n",
    "    print(f\"Description: {description}\")\n",
    "    print(f\"Weather: {weather}\")\n"
   ]
  }
 ],
 "metadata": {
  "kernelspec": {
   "display_name": "Python 3",
   "language": "python",
   "name": "python3"
  },
  "language_info": {
   "codemirror_mode": {
    "name": "ipython",
    "version": 3
   },
   "file_extension": ".py",
   "mimetype": "text/x-python",
   "name": "python",
   "nbconvert_exporter": "python",
   "pygments_lexer": "ipython3",
   "version": "3.10.12"
  }
 },
 "nbformat": 4,
 "nbformat_minor": 2
}
